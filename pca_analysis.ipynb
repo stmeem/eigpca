{
  "nbformat": 4,
  "nbformat_minor": 0,
  "metadata": {
    "colab": {
      "name": "pca_analysis",
      "provenance": [],
      "collapsed_sections": []
    },
    "kernelspec": {
      "name": "python3",
      "display_name": "Python 3"
    },
    "language_info": {
      "name": "python"
    }
  },
  "cells": [
    {
      "cell_type": "markdown",
      "source": [
        "##Manually Calculate Priciple Component Analysis (PCA)"
      ],
      "metadata": {
        "id": "1HcLIrP15xCF"
      }
    },
    {
      "cell_type": "code",
      "execution_count": 1,
      "metadata": {
        "id": "GLSY4aMji7pR"
      },
      "outputs": [],
      "source": [
        "import numpy as np\n",
        "A = np.array([[2.5,2.4],[0.5,0.7], [2.2,2.9],[1.9,2.2],[3.1,3.0],[2.3,2.7],[2,1.6],[1,1.1],[1.5,1.6],[1.1,0.9]])"
      ]
    },
    {
      "cell_type": "code",
      "source": [
        "M=np.mean(A.T,axis=1)\n",
        "M"
      ],
      "metadata": {
        "colab": {
          "base_uri": "https://localhost:8080/"
        },
        "id": "Z_Y-KALFjeDT",
        "outputId": "381fb031-11d6-4733-8ba7-93ed61cc30f1"
      },
      "execution_count": 2,
      "outputs": [
        {
          "output_type": "execute_result",
          "data": {
            "text/plain": [
              "array([1.81, 1.91])"
            ]
          },
          "metadata": {},
          "execution_count": 2
        }
      ]
    },
    {
      "cell_type": "code",
      "source": [
        "# Center columns by subtracting column means\n",
        "C=A-M\n",
        "C"
      ],
      "metadata": {
        "colab": {
          "base_uri": "https://localhost:8080/"
        },
        "id": "zTx655DKjmuO",
        "outputId": "10bb9d69-e808-45e8-c41e-59eb11640a3c"
      },
      "execution_count": 3,
      "outputs": [
        {
          "output_type": "execute_result",
          "data": {
            "text/plain": [
              "array([[ 0.69,  0.49],\n",
              "       [-1.31, -1.21],\n",
              "       [ 0.39,  0.99],\n",
              "       [ 0.09,  0.29],\n",
              "       [ 1.29,  1.09],\n",
              "       [ 0.49,  0.79],\n",
              "       [ 0.19, -0.31],\n",
              "       [-0.81, -0.81],\n",
              "       [-0.31, -0.31],\n",
              "       [-0.71, -1.01]])"
            ]
          },
          "metadata": {},
          "execution_count": 3
        }
      ]
    },
    {
      "cell_type": "code",
      "source": [
        "# Calculate covariance matrix\n",
        "V=np.cov(C.T)\n",
        "print('\\n Covariance matrix \\n',V)"
      ],
      "metadata": {
        "colab": {
          "base_uri": "https://localhost:8080/"
        },
        "id": "BFmQ58ckkTm2",
        "outputId": "99cbd7c8-9d20-4860-8a2d-fb7466d7e35f"
      },
      "execution_count": 4,
      "outputs": [
        {
          "output_type": "stream",
          "name": "stdout",
          "text": [
            "\n",
            " Covariance matrix \n",
            " [[0.61655556 0.61544444]\n",
            " [0.61544444 0.71655556]]\n"
          ]
        }
      ]
    },
    {
      "cell_type": "code",
      "source": [
        "# Calculating Eigenvalues and Eigenvectors of the covariance matrix\n",
        "eigen_values, eigen_vectors= np.linalg.eig(V)\n",
        "print('\\n Eigen vectors \\n',eigen_vectors)\n",
        "print('\\n Eigen values \\n',eigen_values)"
      ],
      "metadata": {
        "colab": {
          "base_uri": "https://localhost:8080/"
        },
        "id": "yZqvs33ekdTT",
        "outputId": "16283c2d-ab23-4076-a712-13e57ef1a164"
      },
      "execution_count": 5,
      "outputs": [
        {
          "output_type": "stream",
          "name": "stdout",
          "text": [
            "\n",
            " Eigen vectors \n",
            " [[-0.73517866 -0.6778734 ]\n",
            " [ 0.6778734  -0.73517866]]\n",
            "\n",
            " Eigen values \n",
            " [0.0490834  1.28402771]\n"
          ]
        }
      ]
    },
    {
      "cell_type": "code",
      "source": [
        "# Sort the eigenvalues in descending order\n",
        "sorted_index = np.argsort(eigen_values)[::-1]\n",
        "sorted_eigenvalue = eigen_values[sorted_index]\n",
        "print('\\n Sorted Eigen Value \\n',sorted_eigenvalue)\n",
        "\n",
        "# Sort the eigenvectors \n",
        "sorted_eigenvectors = eigen_vectors[:,sorted_index]\n",
        "print('\\n Sorted Eigen Vectors \\n',sorted_eigenvectors)\n"
      ],
      "metadata": {
        "colab": {
          "base_uri": "https://localhost:8080/"
        },
        "id": "TCSx_A6L1ohs",
        "outputId": "bc6288e8-a750-4e34-beb6-06d7dbe06568"
      },
      "execution_count": 6,
      "outputs": [
        {
          "output_type": "stream",
          "name": "stdout",
          "text": [
            "\n",
            " Sorted Eigen Value \n",
            " [1.28402771 0.0490834 ]\n",
            "\n",
            " Sorted Eigen Vectors \n",
            " [[-0.6778734  -0.73517866]\n",
            " [-0.73517866  0.6778734 ]]\n"
          ]
        }
      ]
    },
    {
      "cell_type": "code",
      "source": [
        "# Select the first n eigenvectors, n is desired dimension of our final reduced data.\n",
        " \n",
        "n_components = 2 # Can select any number of components\n",
        "eigenvector_subset = sorted_eigenvectors[:,0:n_components]\n",
        "eigenvector_subset"
      ],
      "metadata": {
        "colab": {
          "base_uri": "https://localhost:8080/"
        },
        "id": "rEdI_TNt1zxh",
        "outputId": "19e290f8-3ddf-4094-9962-7adfc9644b74"
      },
      "execution_count": 7,
      "outputs": [
        {
          "output_type": "execute_result",
          "data": {
            "text/plain": [
              "array([[-0.6778734 , -0.73517866],\n",
              "       [-0.73517866,  0.6778734 ]])"
            ]
          },
          "metadata": {},
          "execution_count": 7
        }
      ]
    },
    {
      "cell_type": "code",
      "source": [
        "#Transform the data \n",
        "A_reduced = np.dot(eigenvector_subset.transpose(),C.transpose()).transpose()\n",
        "A_reduced"
      ],
      "metadata": {
        "colab": {
          "base_uri": "https://localhost:8080/"
        },
        "id": "SUJYzwFt16jN",
        "outputId": "16a341ae-6975-424a-8fa9-b57b37c0e982"
      },
      "execution_count": 8,
      "outputs": [
        {
          "output_type": "execute_result",
          "data": {
            "text/plain": [
              "array([[-0.82797019, -0.17511531],\n",
              "       [ 1.77758033,  0.14285723],\n",
              "       [-0.99219749,  0.38437499],\n",
              "       [-0.27421042,  0.13041721],\n",
              "       [-1.67580142, -0.20949846],\n",
              "       [-0.9129491 ,  0.17528244],\n",
              "       [ 0.09910944, -0.3498247 ],\n",
              "       [ 1.14457216,  0.04641726],\n",
              "       [ 0.43804614,  0.01776463],\n",
              "       [ 1.22382056, -0.16267529]])"
            ]
          },
          "metadata": {},
          "execution_count": 8
        }
      ]
    },
    {
      "cell_type": "markdown",
      "source": [
        "##Calculate Principal Component Analysis using the PCA() class in the scikit-learn library"
      ],
      "metadata": {
        "id": "Zuxt_G-a6BRY"
      }
    },
    {
      "cell_type": "code",
      "source": [
        "# Principal Component Analysis\n",
        "from numpy import array\n",
        "from sklearn.decomposition import PCA\n",
        "\n",
        "# Define the matrix\n",
        "print('Given matrix',A)"
      ],
      "metadata": {
        "colab": {
          "base_uri": "https://localhost:8080/"
        },
        "id": "xoV5QDOOtn-C",
        "outputId": "1c6633f8-db58-4238-8e32-f2fdfde17b32"
      },
      "execution_count": 9,
      "outputs": [
        {
          "output_type": "stream",
          "name": "stdout",
          "text": [
            "Given matrix [[2.5 2.4]\n",
            " [0.5 0.7]\n",
            " [2.2 2.9]\n",
            " [1.9 2.2]\n",
            " [3.1 3. ]\n",
            " [2.3 2.7]\n",
            " [2.  1.6]\n",
            " [1.  1.1]\n",
            " [1.5 1.6]\n",
            " [1.1 0.9]]\n"
          ]
        }
      ]
    },
    {
      "cell_type": "code",
      "source": [
        "# Create the PCA instance\n",
        "n_components=2\n",
        "pca = PCA(n_components)"
      ],
      "metadata": {
        "id": "hf5K6JiM406S"
      },
      "execution_count": 10,
      "outputs": []
    },
    {
      "cell_type": "code",
      "source": [
        "# Fit on data\n",
        "pca.fit(A)"
      ],
      "metadata": {
        "colab": {
          "base_uri": "https://localhost:8080/"
        },
        "id": "CnD3yb3oup1C",
        "outputId": "9bbcb437-3432-4c18-c4c0-04a9ff8aebe5"
      },
      "execution_count": 11,
      "outputs": [
        {
          "output_type": "execute_result",
          "data": {
            "text/plain": [
              "PCA(n_components=2)"
            ]
          },
          "metadata": {},
          "execution_count": 11
        }
      ]
    },
    {
      "cell_type": "code",
      "source": [
        "# Access vectors and values\n",
        "print(pca.components_)\n",
        "print(pca.explained_variance_)"
      ],
      "metadata": {
        "colab": {
          "base_uri": "https://localhost:8080/"
        },
        "id": "tAnrfyL446Tk",
        "outputId": "5dac1a65-3913-49db-b710-e309f4e4d750"
      },
      "execution_count": 12,
      "outputs": [
        {
          "output_type": "stream",
          "name": "stdout",
          "text": [
            "[[-0.6778734  -0.73517866]\n",
            " [-0.73517866  0.6778734 ]]\n",
            "[1.28402771 0.0490834 ]\n"
          ]
        }
      ]
    },
    {
      "cell_type": "code",
      "source": [
        "# Transform the data\n",
        "A_reduced = pca.transform(A)\n",
        "print(A_reduced)"
      ],
      "metadata": {
        "colab": {
          "base_uri": "https://localhost:8080/"
        },
        "id": "bneT6KbV48PP",
        "outputId": "77c1f5e5-b1f4-4d09-b5ff-c7680bbf8358"
      },
      "execution_count": 13,
      "outputs": [
        {
          "output_type": "stream",
          "name": "stdout",
          "text": [
            "[[-0.82797019 -0.17511531]\n",
            " [ 1.77758033  0.14285723]\n",
            " [-0.99219749  0.38437499]\n",
            " [-0.27421042  0.13041721]\n",
            " [-1.67580142 -0.20949846]\n",
            " [-0.9129491   0.17528244]\n",
            " [ 0.09910944 -0.3498247 ]\n",
            " [ 1.14457216  0.04641726]\n",
            " [ 0.43804614  0.01776463]\n",
            " [ 1.22382056 -0.16267529]]\n"
          ]
        }
      ]
    }
  ]
}